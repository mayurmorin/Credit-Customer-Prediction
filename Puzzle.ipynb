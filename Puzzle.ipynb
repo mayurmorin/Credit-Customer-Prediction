{
 "cells": [
  {
   "cell_type": "markdown",
   "metadata": {},
   "source": [
    "<h3>Problem Statement</h3>\n",
    "<p>For the next stage of our process, your goal is to build a machine learning model that is able to answer which customers are profitable, and decide who to approve. How business works :\n",
    "<li>Selected customers are given cards\n",
    "<li>Customers make transactions depending upon their limits, credi_line\n",
    "<li>Company earns commission on each transaction and as interest on leftover amount \n",
    "<li>If customer defaults, whole amount is lost \n"
   ]
  },
  {
   "cell_type": "code",
   "execution_count": 3,
   "metadata": {},
   "outputs": [],
   "source": [
    "#Loading Libraries\n",
    "import pandas as pd\n",
    "import numpy as np"
   ]
  },
  {
   "cell_type": "code",
   "execution_count": 10,
   "metadata": {},
   "outputs": [],
   "source": [
    "dfpt=pd.read_csv('puzzle_train_dataset.csv')\n",
    "dfbt=pd.read_csv('big_case_train.csv')"
   ]
  },
  {
   "cell_type": "code",
   "execution_count": 11,
   "metadata": {},
   "outputs": [
    {
     "name": "stdout",
     "output_type": "stream",
     "text": [
      "(64592, 29)\n",
      "(1048575, 7)\n"
     ]
    }
   ],
   "source": [
    "print(dfpt.shape)\n",
    "print(dfbt.shape)"
   ]
  },
  {
   "cell_type": "markdown",
   "metadata": {},
   "source": [
    "You might consider the following costs and rates for your analysis.\n",
    "\n",
    "|           Metrics                       |      |\n",
    "|:---------------------------------------:|:----:|\n",
    "|          Interest by revolving          |  17% |  : commission earned as interest on leftover amount \n",
    "|          Interchange by spend           |  5%  |  : commission earned on each transaction\n",
    "|            Card cost per unit           |  10  |\n",
    "|     Customer service cost per minute    |  2.5 |\n",
    "|           Inflation per month           | 0.5% |\n",
    "\n",
    "\n",
    "Interest by revolving: Customers have the option to pay only 10% of their bills and \"revolve\" the rest to the next month - e.g. Bill = $1.000, pays $1000x10% = $100, revolves $1000 - $100 = $900. His next bill will be $900x(1 + 17/100) = $900(revolving balance) + $153(monthly interest)\n",
    "\n",
    "Interchange: We charge 5% of the total amount purchased to the seller on each transaction. e.g. The customer buys a TV for $1.000, and we make $50 on the transaction\n",
    "\n",
    "Card cost per unit: The cost to manufacture and deliver a card\n",
    "\n",
    "Customer service cost per minute: Customer support\n",
    "\n",
    "Inflation: Average price increases per month.\n",
    "\n",
    "Considerations: If a customer defaulted, you can consider that the sum of total amount of spend plus revolving balance of the last month is the amount that we lost with this client. e.g. $900 + $153 (Monthly interest)\n",
    "\n",
    "\n",
    "Additional Information : \n",
    "- big_case_train.csv : Customers use credit card each month to pay for their daily expenses. At the end of each monthly cycle, an invoice is sent with the amount of money they have to pay back.\n",
    "\n",
    "spends : This is the sum of all expenses for a customer at the end of each billing cycle. Let's say I bought this month a bike (1800$) and went to the restaurant (200$) and nothing else. At the end of the month, I'll receive an invoice of 2000$. (And we will earn 100$ out of that)\n",
    "\n",
    "revolving balance :  the leftover component of Principal amount for that specific month. Revolving balance should always be less than spend (as it is the left over of what the client didn't pay on his bill)\n",
    "\n",
    "The data that you have in big_case_train.csv is what we call behavior data, it's new data that we get every month on how the customers behave. The data in puzzle_train_dataset.csv is acquisition data (see below for explanations)\n",
    "\n",
    "credit_line: Unit is $\n",
    "\n",
    "\n",
    "Let's take an example of a customer that has the label 'default' in the first puzzle\n",
    "index \t\tspends \t\trevolving_balace\n",
    "1320072 \t219 \t\t0 -> Company makes 219*0.05 + 0*0.17 = 10.95 $\n",
    "\n",
    "1320073 \t154 \t\t1 -> Company makes 154*0.05 + 1*0.17 = 7.87 $\n",
    "\n",
    "1320074 \t303 \t\t126 -> Company makes 303*0.05 + 126*0.17 = 36.57 $\n",
    "\n",
    "1320075 \t1197 \t\t1159 -> Company makes 1197*0.05 + 1159*0.17 = 256.88\n",
    "\n",
    "1320076 \t1120 \t\t413 -> Company makes 1120*0.05 + 413*0.17 = 126.21\n",
    "\n",
    "1320077 \t96 \t\t\t0 -> It's the last month of data for a defaulted client, Company loses 96\n",
    "\n",
    "For this customer, Company made (counting only spends and revolving): 438.48 - 96 = 342.48 $\n",
    "\n"
   ]
  },
  {
   "cell_type": "code",
   "execution_count": 12,
   "metadata": {},
   "outputs": [
    {
     "data": {
      "text/html": [
       "<div>\n",
       "<style scoped>\n",
       "    .dataframe tbody tr th:only-of-type {\n",
       "        vertical-align: middle;\n",
       "    }\n",
       "\n",
       "    .dataframe tbody tr th {\n",
       "        vertical-align: top;\n",
       "    }\n",
       "\n",
       "    .dataframe thead th {\n",
       "        text-align: right;\n",
       "    }\n",
       "</style>\n",
       "<table border=\"1\" class=\"dataframe\">\n",
       "  <thead>\n",
       "    <tr style=\"text-align: right;\">\n",
       "      <th></th>\n",
       "      <th>ids</th>\n",
       "      <th>credit_line</th>\n",
       "      <th>month</th>\n",
       "      <th>spends</th>\n",
       "      <th>revolving_balance</th>\n",
       "      <th>card_request</th>\n",
       "      <th>minutes_cs</th>\n",
       "    </tr>\n",
       "  </thead>\n",
       "  <tbody>\n",
       "    <tr>\n",
       "      <th>0</th>\n",
       "      <td>810e3277-619e-3154-7ba0-ebddfc5f7ea9</td>\n",
       "      <td>1285</td>\n",
       "      <td>0</td>\n",
       "      <td>0.00</td>\n",
       "      <td>0.00</td>\n",
       "      <td>1</td>\n",
       "      <td>0.0</td>\n",
       "    </tr>\n",
       "    <tr>\n",
       "      <th>1</th>\n",
       "      <td>810e3277-619e-3154-7ba0-ebddfc5f7ea9</td>\n",
       "      <td>1285</td>\n",
       "      <td>1</td>\n",
       "      <td>0.00</td>\n",
       "      <td>0.00</td>\n",
       "      <td>0</td>\n",
       "      <td>0.0</td>\n",
       "    </tr>\n",
       "    <tr>\n",
       "      <th>2</th>\n",
       "      <td>810e3277-619e-3154-7ba0-ebddfc5f7ea9</td>\n",
       "      <td>1285</td>\n",
       "      <td>2</td>\n",
       "      <td>196.69</td>\n",
       "      <td>13.33</td>\n",
       "      <td>0</td>\n",
       "      <td>0.0</td>\n",
       "    </tr>\n",
       "    <tr>\n",
       "      <th>3</th>\n",
       "      <td>810e3277-619e-3154-7ba0-ebddfc5f7ea9</td>\n",
       "      <td>1285</td>\n",
       "      <td>3</td>\n",
       "      <td>151.73</td>\n",
       "      <td>106.26</td>\n",
       "      <td>0</td>\n",
       "      <td>0.0</td>\n",
       "    </tr>\n",
       "    <tr>\n",
       "      <th>4</th>\n",
       "      <td>810e3277-619e-3154-7ba0-ebddfc5f7ea9</td>\n",
       "      <td>1285</td>\n",
       "      <td>4</td>\n",
       "      <td>982.02</td>\n",
       "      <td>0.00</td>\n",
       "      <td>0</td>\n",
       "      <td>0.0</td>\n",
       "    </tr>\n",
       "  </tbody>\n",
       "</table>\n",
       "</div>"
      ],
      "text/plain": [
       "                                    ids  credit_line  month  spends  \\\n",
       "0  810e3277-619e-3154-7ba0-ebddfc5f7ea9         1285      0    0.00   \n",
       "1  810e3277-619e-3154-7ba0-ebddfc5f7ea9         1285      1    0.00   \n",
       "2  810e3277-619e-3154-7ba0-ebddfc5f7ea9         1285      2  196.69   \n",
       "3  810e3277-619e-3154-7ba0-ebddfc5f7ea9         1285      3  151.73   \n",
       "4  810e3277-619e-3154-7ba0-ebddfc5f7ea9         1285      4  982.02   \n",
       "\n",
       "   revolving_balance  card_request  minutes_cs  \n",
       "0               0.00             1         0.0  \n",
       "1               0.00             0         0.0  \n",
       "2              13.33             0         0.0  \n",
       "3             106.26             0         0.0  \n",
       "4               0.00             0         0.0  "
      ]
     },
     "execution_count": 12,
     "metadata": {},
     "output_type": "execute_result"
    }
   ],
   "source": [
    "dfbt.head()"
   ]
  },
  {
   "cell_type": "code",
   "execution_count": 13,
   "metadata": {},
   "outputs": [],
   "source": [
    "get_ipython().run_line_magic('config', 'IPCompleter.greedy = True')"
   ]
  },
  {
   "cell_type": "code",
   "execution_count": null,
   "metadata": {},
   "outputs": [],
   "source": []
  }
 ],
 "metadata": {
  "kernelspec": {
   "display_name": "Python 3",
   "language": "python",
   "name": "python3"
  },
  "language_info": {
   "codemirror_mode": {
    "name": "ipython",
    "version": 3
   },
   "file_extension": ".py",
   "mimetype": "text/x-python",
   "name": "python",
   "nbconvert_exporter": "python",
   "pygments_lexer": "ipython3",
   "version": "3.6.6"
  }
 },
 "nbformat": 4,
 "nbformat_minor": 2
}
