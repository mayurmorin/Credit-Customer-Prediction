{
 "cells": [
  {
   "cell_type": "code",
   "execution_count": 1,
   "metadata": {},
   "outputs": [],
   "source": [
    "#https://ipython.readthedocs.io/en/stable/interactive/magics.html\n",
    "get_ipython().run_line_magic('config', 'IPCompleter.greedy = True')"
   ]
  },
  {
   "cell_type": "code",
   "execution_count": 14,
   "metadata": {},
   "outputs": [],
   "source": [
    "# Importing the libraries\n",
    "import numpy as np\n",
    "import matplotlib.pyplot as plt\n",
    "import pandas as pd\n",
    "import math as mt\n",
    "from sklearn.preprocessing import Imputer\n"
   ]
  },
  {
   "cell_type": "code",
   "execution_count": 15,
   "metadata": {},
   "outputs": [],
   "source": [
    "#==============================================================================\n",
    "# Importing the dataset\n",
    "#==============================================================================\n",
    "dataset_new = pd.read_csv('big_case_train.csv')\n",
    "\n",
    "dataset_test = pd.read_csv('puzzle_train_dataset.csv')\n"
   ]
  },
  {
   "cell_type": "code",
   "execution_count": 16,
   "metadata": {},
   "outputs": [],
   "source": [
    "def log_progress(sequence, every=None, size=None, name='Items'):\n",
    "    from ipywidgets import IntProgress, HTML, VBox\n",
    "    from IPython.display import display\n",
    "\n",
    "    is_iterator = False\n",
    "    if size is None:\n",
    "        try:\n",
    "            size = len(sequence)\n",
    "        except TypeError:\n",
    "            is_iterator = True\n",
    "    if size is not None:\n",
    "        if every is None:\n",
    "            if size <= 200:\n",
    "                every = 1\n",
    "            else:\n",
    "                every = int(size / 200)     # every 0.5%\n",
    "    else:\n",
    "        assert every is not None, 'sequence is iterator, set every'\n",
    "\n",
    "    if is_iterator:\n",
    "        progress = IntProgress(min=0, max=1, value=1)\n",
    "        progress.bar_style = 'info'\n",
    "    else:\n",
    "        progress = IntProgress(min=0, max=size, value=0)\n",
    "    label = HTML()\n",
    "    box = VBox(children=[label, progress])\n",
    "    display(box)\n",
    "\n",
    "    index = 0\n",
    "    try:\n",
    "        for index, record in enumerate(sequence, 1):\n",
    "            if index == 1 or index % every == 0:\n",
    "                if is_iterator:\n",
    "                    label.value = '{name}: {index} / ?'.format(\n",
    "                        name=name,\n",
    "                        index=index\n",
    "                    )\n",
    "                else:\n",
    "                    progress.value = index\n",
    "                    label.value = u'{name}: {index} / {size}'.format(\n",
    "                        name=name,\n",
    "                        index=index,\n",
    "                        size=size\n",
    "                    )\n",
    "            yield record\n",
    "    except:\n",
    "        progress.bar_style = 'danger'\n",
    "        raise\n",
    "    else:\n",
    "        progress.bar_style = 'success'\n",
    "        progress.value = index\n",
    "        label.value = \"{name}: {index}\".format(\n",
    "            name=name,\n",
    "            index=str(index or '?')\n",
    "        )"
   ]
  },
  {
   "cell_type": "code",
   "execution_count": null,
   "metadata": {},
   "outputs": [],
   "source": [
    "#=============================================================================\n",
    "#Reorganize data\n",
    "#==============================================================================\n",
    "dataset = pd.read_csv('puzzle_train_dataset.csv')\n",
    "imputer_mode = Imputer(missing_values=\"NaN\",strategy=\"most_frequent\",axis=0)\n",
    "dataset.iloc[:,[1]]=imputer_mode.fit_transform(dataset.iloc[:,[1]])\n",
    "sz = len(dataset)\n",
    "defaulters = range(0,sz)\n",
    "for i in defaulters:\n",
    "    if dataset['default'][i] == True:\n",
    "        dataset = dataset.append(dataset.iloc[i,:],ignore_index=True)\n",
    "for i in log_progress(defaulters):\n",
    "     if dataset['default'][i] == True:\n",
    "        dataset.drop(i,inplace=True)\n",
    "#Save data to csv for reuse\n",
    "dataset.to_csv('reorganized.csv', sep=',', index=False)\n",
    " "
   ]
  },
  {
   "cell_type": "code",
   "execution_count": null,
   "metadata": {},
   "outputs": [],
   "source": [
    "#selectingh the reorganized csv file to save time\n",
    "#Use Celll Reorganize data to get this file.\n",
    "dataset = pd.read_csv('reorganized.csv')\n",
    "\n",
    "dataset_test = pd.read_csv('puzzle_test_dataset.csv')"
   ]
  },
  {
   "cell_type": "code",
   "execution_count": null,
   "metadata": {},
   "outputs": [],
   "source": [
    "#==============================================================================\n",
    "#Calculating the total profit\n",
    "#==============================================================================\n",
    "profit = dataset_new['spends']*0.05 + dataset_new['revolving_balance']*0.17 - dataset_new['card_request']*10 - dataset_new['minutes_cs']*2.6\n",
    "\n",
    "#Calculating the absolute profit after considering the inflation costs\n",
    "dataset_new['absolute_profit'] = profit - profit * dataset_new['month']*0.005 \n",
    "\n",
    "#Adding the processed data from big_data.csv to our training dataset.\n",
    "#dataset_new['default'] = dataset['default']"
   ]
  },
  {
   "cell_type": "code",
   "execution_count": null,
   "metadata": {},
   "outputs": [],
   "source": [
    "#==============================================================================\n",
    "#creating np array to calculate total profits after considering revolving balance\n",
    "#==============================================================================\n",
    "big_data = dataset_new.iloc[:,[0,-1,4]].values\n",
    "ids = np.ndarray(shape=(np.unique(big_data[:,0]).size,4),dtype=float)\n",
    "ids[:,0] = dataset['default']\n",
    "big_data"
   ]
  }
 ],
 "metadata": {
  "kernelspec": {
   "display_name": "Python 3",
   "language": "python",
   "name": "python3"
  },
  "language_info": {
   "codemirror_mode": {
    "name": "ipython",
    "version": 3
   },
   "file_extension": ".py",
   "mimetype": "text/x-python",
   "name": "python",
   "nbconvert_exporter": "python",
   "pygments_lexer": "ipython3",
   "version": "3.6.6"
  }
 },
 "nbformat": 4,
 "nbformat_minor": 2
}
